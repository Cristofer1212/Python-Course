{
 "cells": [
  {
   "attachments": {},
   "cell_type": "markdown",
   "metadata": {},
   "source": [
    "Control de Flujo"
   ]
  },
  {
   "attachments": {},
   "cell_type": "markdown",
   "metadata": {},
   "source": [
    "Escribe un programa que sea capaz de mostrar los números del 1 al 100 en orden inverso."
   ]
  },
  {
   "cell_type": "code",
   "execution_count": null,
   "metadata": {},
   "outputs": [],
   "source": [
    "for i in  range(100, 0, -1):\n",
    "   x = (f\"Este es el número {i}.\")\n",
    "   print(x)"
   ]
  },
  {
   "attachments": {},
   "cell_type": "markdown",
   "metadata": {},
   "source": [
    "Testigo"
   ]
  },
  {
   "cell_type": "code",
   "execution_count": null,
   "metadata": {},
   "outputs": [],
   "source": [
    "import random\n",
    "\n",
    "print(\"Comienzo\")\n",
    "sacaste_5 = False\n",
    "for i in range(3): \n",
    "    dado = random.randrange(1, 7)\n",
    "    print(f\"Tirada {i + 1}: {dado}\")\n",
    "    if dado == 5:\n",
    "        sacaste_5 = True\n",
    "if sacaste_5:\n",
    "    print (\"Ha salido al menos un 5.\")\n",
    "print(\"Final\")"
   ]
  },
  {
   "attachments": {},
   "cell_type": "markdown",
   "metadata": {},
   "source": [
    "Contador"
   ]
  },
  {
   "cell_type": "code",
   "execution_count": null,
   "metadata": {},
   "outputs": [],
   "source": [
    "import random\n",
    "\n",
    "print(\"comienzo\")\n",
    "cuenta_cincos= 0\n",
    "for i in range (5):\n",
    "    dado = random.randrange(1, 7)\n",
    "    print (f\"Tirada {i + 1}: {dado}\")\n",
    "    if dado == 5:\n",
    "        cuenta_cincos += 1\n",
    "print (f\"En total han salido {cuenta_cincos} cincos. \")\n",
    "print(\"Final\")"
   ]
  },
  {
   "attachments": {},
   "cell_type": "markdown",
   "metadata": {},
   "source": [
    "Acumulador"
   ]
  },
  {
   "cell_type": "code",
   "execution_count": null,
   "metadata": {},
   "outputs": [],
   "source": [
    "import random\n",
    "\n",
    "print(\"Comienzo\")\n",
    "total = 0\n",
    "for i in range (5):\n",
    "    dado = random.randrange(1, 7)\n",
    "    print(f\"Tirada {i + 1}: {dado}\")\n",
    "    total = total + dado\n",
    "print(f\"En total ha obtenido {total} puntos\")\n",
    "print(\"Final\")"
   ]
  }
 ],
 "metadata": {
  "kernelspec": {
   "display_name": "Python 3",
   "language": "python",
   "name": "python3"
  },
  "language_info": {
   "name": "python",
   "version": "3.10.9"
  },
  "orig_nbformat": 4,
  "vscode": {
   "interpreter": {
    "hash": "f8ca15d83b6fb72cece3edcf60f6aa40d2cbdeb5c60e0f188ff8c7c65828fd00"
   }
  }
 },
 "nbformat": 4,
 "nbformat_minor": 2
}
