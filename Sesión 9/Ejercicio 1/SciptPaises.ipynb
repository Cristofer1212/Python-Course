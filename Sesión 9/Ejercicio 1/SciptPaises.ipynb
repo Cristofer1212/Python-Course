{
 "cells": [
  {
   "cell_type": "code",
   "execution_count": 2,
   "metadata": {},
   "outputs": [
    {
     "name": "stdout",
     "output_type": "stream",
     "text": [
      "Bolivia, Chile, Chile, Perú\n"
     ]
    }
   ],
   "source": [
    "paises_raw = input(\"Introduce una lista de países separados por comas: \")\n",
    "paises_list = paises_raw.split(',')\n",
    "paises = set(paises_list)\n",
    "paises = list(paises)\n",
    "paises = [pais.strip() for pais in paises]\n",
    "paises.sort()\n",
    "\n",
    "print(\", \".join(paises))\n",
    "\n",
    "# No se porque pero no funciona PTMR"
   ]
  }
 ],
 "metadata": {
  "kernelspec": {
   "display_name": "Python 3",
   "language": "python",
   "name": "python3"
  },
  "language_info": {
   "codemirror_mode": {
    "name": "ipython",
    "version": 3
   },
   "file_extension": ".py",
   "mimetype": "text/x-python",
   "name": "python",
   "nbconvert_exporter": "python",
   "pygments_lexer": "ipython3",
   "version": "3.10.10"
  },
  "orig_nbformat": 4,
  "vscode": {
   "interpreter": {
    "hash": "f8ca15d83b6fb72cece3edcf60f6aa40d2cbdeb5c60e0f188ff8c7c65828fd00"
   }
  }
 },
 "nbformat": 4,
 "nbformat_minor": 2
}
