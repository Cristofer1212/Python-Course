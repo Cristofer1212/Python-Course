{
 "cells": [
  {
   "attachments": {},
   "cell_type": "markdown",
   "metadata": {},
   "source": [
    "Clases y Objetos"
   ]
  },
  {
   "attachments": {},
   "cell_type": "markdown",
   "metadata": {
    "tags": []
   },
   "source": [
    "En este ejercicio vais a crear la clase Vehículo la cual tendrá los siguientes atributos:\n",
    "\n",
    " - Color\n",
    " - Ruedas\n",
    " - Puertas\n",
    "\n",
    "Por otro lado crearéis la clase Coche la cual heredará de Vehículo y tendrá los siguientes atributos:\n",
    "\n",
    " - Velocidad\n",
    " - Cilindrada\n",
    " \n",
    "Por último, tendrás que crear un objeto de la clase Coche y mostrarlo por consola."
   ]
  },
  {
   "cell_type": "code",
   "execution_count": null,
   "metadata": {},
   "outputs": [],
   "source": [
    "class Vehículo:\n",
    "    def __init__(self,color, ruedas, puertas): \n",
    "\n",
    "        self.color = color\n",
    "        self.ruedas = str(ruedas) + \" Ruedas\"\n",
    "        self.puertas = str(puertas) + \" Puertas\"\n",
    "\n",
    "class Coche(Vehículo):\n",
    "\n",
    "    def __init__(self, velocidad, cilindrada):\n",
    "        self.velocidad = str(velocidad) + \" Km/h\"\n",
    "        self.cilindrada = str(cilindrada) + \" Cilindros\"\n",
    "\n",
    "# Creando el Objeto de la Clase Coche\n",
    "mi_Coche = Coche(160 , 8 )\n",
    "\n",
    "# Creando el objeto de la CLase Vehículo\n",
    "mi_Vehículo = Vehículo(\"Negro\", 4 , 4)\n",
    "\n",
    "# Impriminedo\n",
    "x = mi_Coche\n",
    "y = mi_Vehículo\n",
    "\n",
    "print(x.velocidad)\n",
    "print(y.color)\n",
    "print (y.ruedas)"
   ]
  },
  {
   "cell_type": "code",
   "execution_count": 19,
   "metadata": {},
   "outputs": [
    {
     "name": "stdout",
     "output_type": "stream",
     "text": [
      "Nombre:  Cristofer Azaña\n",
      "Nota:  100\n",
      "El Alumno Cristofer Azaña ha aprobado el curso\n",
      "Nombre:  Kevin Salinas\n",
      "Nota:  5\n",
      "Ag, Burro de mierda, tenias que ser  Kevin Salinas p ¡Babosaso!\n"
     ]
    }
   ],
   "source": [
    "class Alumno:\n",
    "    def __init__(self, nombre, nota):\n",
    "        self.nombre = nombre\n",
    "        self. nota = nota\n",
    "\n",
    "    def imprimir(self):\n",
    "        print(\"Nombre: \", self.nombre)\n",
    "        print(\"Nota: \", self.nota)\n",
    "\n",
    "    def resultado(self):\n",
    "        if self.nota >= 14:\n",
    "            print(f\"El Alumno {self.nombre} ha aprobado el curso\")\n",
    "        else:\n",
    "            print(f\"Ag, Burro de mierda, tenias que ser  {self.nombre} p ¡Babosaso!\")\n",
    "\n",
    "alumno1 = Alumno(\"Cristofer Azaña\", 100)\n",
    "alumno2 = Alumno(\"Kevin Salinas\", 5)\n",
    "\n",
    "alumno1.imprimir()\n",
    "alumno1.resultado()\n",
    "alumno2.imprimir()\n",
    "alumno2.resultado()\n"
   ]
  }
 ],
 "metadata": {
  "kernelspec": {
   "display_name": "Python 3",
   "language": "python",
   "name": "python3"
  },
  "language_info": {
   "codemirror_mode": {
    "name": "ipython",
    "version": 3
   },
   "file_extension": ".py",
   "mimetype": "text/x-python",
   "name": "python",
   "nbconvert_exporter": "python",
   "pygments_lexer": "ipython3",
   "version": "3.10.9 (tags/v3.10.9:1dd9be6, Dec  6 2022, 20:01:21) [MSC v.1934 64 bit (AMD64)]"
  },
  "orig_nbformat": 4,
  "vscode": {
   "interpreter": {
    "hash": "f8ca15d83b6fb72cece3edcf60f6aa40d2cbdeb5c60e0f188ff8c7c65828fd00"
   }
  }
 },
 "nbformat": 4,
 "nbformat_minor": 2
}
